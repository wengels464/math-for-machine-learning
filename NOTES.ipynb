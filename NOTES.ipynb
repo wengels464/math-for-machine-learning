{
 "cells": [
  {
   "cell_type": "markdown",
   "id": "040a98f6",
   "metadata": {},
   "source": [
    "# Chapter 2\n",
    "## Linear Algebra\n",
    "\n",
    "Algebra itself is defined as the construction of objects (symbols) and operations to manipulate them (algebraic laws).\n",
    "\n",
    "Linear algebra is the study of vectors and the rules pertaining to the manipulation of vectors.\n",
    "\n",
    "All polynomials are vectors, but we are primarily interested in geometric (straight) vectors.\n",
    "\n",
    "$\\theta$"
   ]
  },
  {
   "cell_type": "code",
   "execution_count": null,
   "id": "793e3ade",
   "metadata": {},
   "outputs": [],
   "source": []
  }
 ],
 "metadata": {
  "kernelspec": {
   "display_name": "Python 3 (ipykernel)",
   "language": "python",
   "name": "python3"
  },
  "language_info": {
   "codemirror_mode": {
    "name": "ipython",
    "version": 3
   },
   "file_extension": ".py",
   "mimetype": "text/x-python",
   "name": "python",
   "nbconvert_exporter": "python",
   "pygments_lexer": "ipython3",
   "version": "3.9.7"
  }
 },
 "nbformat": 4,
 "nbformat_minor": 5
}
